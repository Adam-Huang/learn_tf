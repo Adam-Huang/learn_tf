{
 "cells": [
  {
   "cell_type": "code",
   "execution_count": 1,
   "metadata": {
    "collapsed": true
   },
   "outputs": [],
   "source": [
    "import tensorflow as tf"
   ]
  },
  {
   "cell_type": "markdown",
   "metadata": {},
   "source": [
    "## 1. 创建图 启动图"
   ]
  },
  {
   "cell_type": "code",
   "execution_count": 7,
   "metadata": {
    "collapsed": false
   },
   "outputs": [
    {
     "name": "stdout",
     "output_type": "stream",
     "text": [
      "<class 'tensorflow.python.framework.ops.Tensor'>\n",
      "Tensor(\"MatMul_3:0\", shape=(2, 1), dtype=int32)\n",
      "<class 'tensorflow.python.framework.ops.Tensor'>\n",
      "[[10]\n",
      " [ 5]]\n",
      "<class 'numpy.ndarray'>\n"
     ]
    }
   ],
   "source": [
    "m1 = tf.constant([[2,4],[1,2]])\n",
    "m2 = tf.constant([[3],[1]])\n",
    "print(type(m2))\n",
    "product = tf.matmul(m1,m2)\n",
    "print(product)\n",
    "print(type(product))\n",
    "\n",
    "sess = tf.Session()\n",
    "result = sess.run(product)\n",
    "print(result)\n",
    "print(type(result))\n",
    "sess.close()"
   ]
  },
  {
   "cell_type": "markdown",
   "metadata": {},
   "source": [
    "## 2. 变量"
   ]
  },
  {
   "cell_type": "code",
   "execution_count": 9,
   "metadata": {
    "collapsed": false
   },
   "outputs": [
    {
     "name": "stdout",
     "output_type": "stream",
     "text": [
      "[-8  0]\n",
      "[14  6]\n"
     ]
    }
   ],
   "source": [
    "v1 = tf.Variable([3,3])\n",
    "c1 = tf.constant([11,3])\n",
    "sub = tf.subtract(v1,c1)\n",
    "add = tf.add(v1,c1)\n",
    "\n",
    "init = tf.global_variables_initializer()\n",
    "\n",
    "with tf.Session() as sess:\n",
    "    sess.run(init)\n",
    "    print(sess.run(sub))\n",
    "    print(sess.run(add))\n"
   ]
  },
  {
   "cell_type": "code",
   "execution_count": 11,
   "metadata": {
    "collapsed": false
   },
   "outputs": [
    {
     "name": "stdout",
     "output_type": "stream",
     "text": [
      "1\n",
      "2\n",
      "3\n",
      "4\n",
      "5\n"
     ]
    }
   ],
   "source": [
    "count = tf.Variable(0,name='Haha')\n",
    "new_value = tf.add(count,1) ##加1传递给new_value - -！\n",
    "update = tf.assign(count,new_value)\n",
    "## 哦，可想而知，如果加过的值直接给count，那session就会不停的迭代，死循环\n",
    "\n",
    "init = tf.global_variables_initializer()\n",
    "\n",
    "with tf.Session() as sess:\n",
    "    sess.run(init)\n",
    "    for _ in range(5):\n",
    "        sess.run(update)\n",
    "        print(sess.run(count)) ##就连一个数据也不是直接查询的，要run下>.<\n",
    "    "
   ]
  },
  {
   "cell_type": "markdown",
   "metadata": {},
   "source": [
    "## 3. Fetch and Feed"
   ]
  },
  {
   "cell_type": "code",
   "execution_count": 14,
   "metadata": {
    "collapsed": false
   },
   "outputs": [
    {
     "name": "stdout",
     "output_type": "stream",
     "text": [
      "[array([15.], dtype=float32), array([5.], dtype=float32)]\n"
     ]
    }
   ],
   "source": [
    "## Fetch ：同时运行多个op\n",
    "inpt1 = tf.constant([3.0])\n",
    "inpt2 = tf.constant([2.0])\n",
    "inpt3 = tf.constant([3.0])\n",
    "\n",
    "add = tf.add(inpt2,inpt3)\n",
    "mul = tf.multiply(inpt1,add)\n",
    "\n",
    "with tf.Session() as sess:\n",
    "    res = sess.run([mul,add])\n",
    "    print(res)\n",
    "##显示方式上好像有点不同"
   ]
  },
  {
   "cell_type": "code",
   "execution_count": 16,
   "metadata": {
    "collapsed": false
   },
   "outputs": [
    {
     "name": "stdout",
     "output_type": "stream",
     "text": [
      "[12.]\n"
     ]
    }
   ],
   "source": [
    "## feed\n",
    "inpt1 = tf.placeholder(tf.float32) ##>.<什么都要带个tf\n",
    "inpt2 = tf.placeholder(tf.float32)\n",
    "\n",
    "oupt1 = tf.multiply(inpt1,inpt2)\n",
    "\n",
    "with tf.Session() as sess:\n",
    "    result = sess.run(oupt1,feed_dict={inpt1:[3],inpt2:[4]})\n",
    "    print(result)"
   ]
  },
  {
   "cell_type": "code",
   "execution_count": 17,
   "metadata": {
    "collapsed": true
   },
   "outputs": [],
   "source": [
    "## 4. 线性回归小例子"
   ]
  },
  {
   "cell_type": "code",
   "execution_count": 18,
   "metadata": {
    "collapsed": false
   },
   "outputs": [
    {
     "name": "stdout",
     "output_type": "stream",
     "text": [
      "0 [0.04919746, 0.098680474]\n",
      "20 [0.09985717, 0.20007104]\n",
      "40 [0.09991437, 0.2000427]\n",
      "60 [0.09994867, 0.20002559]\n",
      "80 [0.099969216, 0.20001534]\n",
      "100 [0.099981554, 0.2000092]\n",
      "120 [0.09998892, 0.20000552]\n",
      "140 [0.099993356, 0.20000331]\n",
      "160 [0.09999601, 0.20000198]\n",
      "180 [0.0999976, 0.2000012]\n",
      "200 [0.09999856, 0.20000072]\n"
     ]
    }
   ],
   "source": [
    "import numpy as np\n",
    "\n",
    "x_data = np.random.rand(100)\n",
    "y_data = x_data*0.1 + 0.2\n",
    "\n",
    "b = tf.Variable(0.)\n",
    "k = tf.Variable(0.)\n",
    "y = k*x_data + b\n",
    "\n",
    "loss = tf.reduce_mean(tf.square(y_data - y))\n",
    "\n",
    "optimizer = tf.train.GradientDescentOptimizer(0.2)##参数是学习率\n",
    "\n",
    "train = optimizer.minimize(loss)\n",
    "\n",
    "init = tf.global_variables_initializer()\n",
    "\n",
    "with tf.Session() as sess:\n",
    "    sess.run(init)\n",
    "    for i in range(201):\n",
    "        sess.run(train)\n",
    "        if i%20 == 0:\n",
    "            print(i,sess.run([k,b]))"
   ]
  },
  {
   "cell_type": "code",
   "execution_count": null,
   "metadata": {
    "collapsed": true
   },
   "outputs": [],
   "source": []
  }
 ],
 "metadata": {
  "anaconda-cloud": {},
  "kernelspec": {
   "display_name": "Python [default]",
   "language": "python",
   "name": "python3"
  },
  "language_info": {
   "codemirror_mode": {
    "name": "ipython",
    "version": 3
   },
   "file_extension": ".py",
   "mimetype": "text/x-python",
   "name": "python",
   "nbconvert_exporter": "python",
   "pygments_lexer": "ipython3",
   "version": "3.5.2"
  }
 },
 "nbformat": 4,
 "nbformat_minor": 1
}
