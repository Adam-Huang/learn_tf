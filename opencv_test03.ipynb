{
 "cells": [
  {
   "cell_type": "markdown",
   "metadata": {},
   "source": [
    "基于opencv test 01 & 03 目前确定的方案，还是先找到图书主体，将主体分离出来后，再找线\n",
    "\n",
    "找线的思路，先再canny后的图片中找到像素级的连线：\n",
    "\n",
    "1. 找到一条线\n",
    "2. 上下寻找，放入临时内存，符合要求，将点返回，遍历1中的直线\n",
    "3. 得到数个列表，用线性拟合，找到k和b\n",
    "4. 画出看效果"
   ]
  },
  {
   "cell_type": "code",
   "execution_count": 1,
   "metadata": {
    "collapsed": true
   },
   "outputs": [],
   "source": [
    "import cv2\n",
    "import numpy as np"
   ]
  },
  {
   "cell_type": "code",
   "execution_count": 10,
   "metadata": {
    "collapsed": false
   },
   "outputs": [
    {
     "data": {
      "text/plain": [
       "(676, 1608)"
      ]
     },
     "execution_count": 10,
     "metadata": {},
     "output_type": "execute_result"
    }
   ],
   "source": [
    "edge_ = cv2.imread('realut_edge.jpg',cv2.IMREAD_GRAYSCALE)\n",
    "h,w = edge_.shape\n",
    "h,w"
   ]
  },
  {
   "cell_type": "code",
   "execution_count": null,
   "metadata": {
    "collapsed": true
   },
   "outputs": [],
   "source": [
    "def UpFind(im,x,y):\n",
    "    "
   ]
  },
  {
   "cell_type": "code",
   "execution_count": 27,
   "metadata": {
    "collapsed": false
   },
   "outputs": [],
   "source": [
    "line = h//2\n",
    "line_lists = []\n",
    "for i in range(w):\n",
    "    if edge_[line,i] > 200:\n",
    "        bUpFind = True\n",
    "        bDownFind = True\n",
    "        p_l,d_l = i,i\n",
    "        line_list = [[line,i]]\n",
    "        for j in range(1,h//3):\n",
    "            if bUpFind:\n",
    "                for k in range(-1,2):\n",
    "                    if edge_[line-j,p_l + k] > 200:\n",
    "                        p_l += k\n",
    "                        line_list.insert(0,[line-j,p_l])\n",
    "                        break\n",
    "                    else:\n",
    "                        if k == 1:\n",
    "                            bUpFind = False\n",
    "\n",
    "            if bDownFind:\n",
    "                for k in range(-1,2):\n",
    "                    if edge_[line+j,d_l - k] > 200:\n",
    "                        d_l -= k\n",
    "                        line_list.append([line+j,d_l])\n",
    "                        break\n",
    "                    else:\n",
    "                        if k == 1:\n",
    "                            bDownFind = False\n",
    "            \n",
    "            if bUpFind == False and bDownFind == False:\n",
    "                break\n",
    "        if len(line_list) > h//6:\n",
    "            line_lists.append(line_list)"
   ]
  },
  {
   "cell_type": "code",
   "execution_count": 28,
   "metadata": {
    "collapsed": false
   },
   "outputs": [
    {
     "data": {
      "text/plain": [
       "list"
      ]
     },
     "execution_count": 28,
     "metadata": {},
     "output_type": "execute_result"
    }
   ],
   "source": [
    "type(line_lists)"
   ]
  },
  {
   "cell_type": "code",
   "execution_count": 29,
   "metadata": {
    "collapsed": false
   },
   "outputs": [
    {
     "name": "stdout",
     "output_type": "stream",
     "text": [
      "[200, 0] [546, 71]\n",
      "[114, 34] [463, 103]\n",
      "[114, 76] [398, 128]\n",
      "[114, 120] [429, 177]\n",
      "[114, 125] [562, 202]\n",
      "[186, 189] [491, 240]\n",
      "[150, 185] [487, 244]\n",
      "[114, 214] [437, 269]\n",
      "[114, 219] [562, 297]\n",
      "[137, 268] [562, 340]\n",
      "[130, 267] [562, 345]\n",
      "[286, 335] [440, 358]\n",
      "[281, 359] [524, 396]\n",
      "[114, 336] [562, 406]\n",
      "[114, 339] [562, 409]\n",
      "[114, 367] [562, 435]\n",
      "[114, 370] [562, 439]\n",
      "[114, 397] [418, 444]\n",
      "[114, 399] [562, 468]\n",
      "[114, 431] [562, 497]\n",
      "[114, 435] [562, 504]\n",
      "[114, 467] [562, 533]\n",
      "[114, 524] [562, 590]\n",
      "[114, 597] [562, 657]\n",
      "[114, 599] [562, 665]\n",
      "[225, 647] [562, 692]\n",
      "[225, 647] [518, 689]\n",
      "[114, 665] [516, 722]\n",
      "[310, 755] [449, 769]\n",
      "[261, 748] [417, 773]\n",
      "[270, 793] [407, 814]\n",
      "[287, 800] [402, 817]\n",
      "[269, 816] [427, 848]\n",
      "[114, 794] [407, 940]\n",
      "[114, 815] [562, 1037]\n",
      "[114, 818] [490, 1005]\n",
      "[114, 839] [433, 996]\n",
      "[247, 907] [562, 1064]\n",
      "[114, 864] [562, 1084]\n",
      "[114, 864] [562, 1084]\n",
      "[167, 911] [428, 1090]\n",
      "[240, 1047] [562, 1270]\n"
     ]
    }
   ],
   "source": [
    "for i in range(len(line_lists)):\n",
    "    print(line_lists[i][0],line_lists[i][-1])"
   ]
  },
  {
   "cell_type": "code",
   "execution_count": 30,
   "metadata": {
    "collapsed": false
   },
   "outputs": [],
   "source": [
    "src = cv2.imread('reslut.jpg')\n",
    "src1 = src.copy()\n",
    "for i in range(len(line_lists)):\n",
    "    cv2.line(src1,(line_lists[i][0][1],line_lists[i][0][0]),(line_lists[i][-1][1],line_lists[i][-1][0]),(0,0,255),3)\n",
    "cv2.imshow('src',src1)\n",
    "cv2.waitKey(0)\n",
    "cv2.destroyAllWindows()"
   ]
  },
  {
   "cell_type": "code",
   "execution_count": 14,
   "metadata": {
    "collapsed": false
   },
   "outputs": [],
   "source": [
    "def LinearRegression(line_list):\n",
    "    k = 0\n",
    "    b = line_list[0][1]\n",
    "    for i in range(100):\n",
    "        y0 = "
   ]
  },
  {
   "cell_type": "markdown",
   "metadata": {},
   "source": [
    "### 先来一个不用逻辑回归的\n",
    "\n",
    "效果也还行，是否用linear regression后续再看吧"
   ]
  },
  {
   "cell_type": "code",
   "execution_count": 37,
   "metadata": {
    "collapsed": true
   },
   "outputs": [],
   "source": [
    "new_list = []\n",
    "for i in range(len(line_lists)):\n",
    "    k = (line_lists[i][-1][1] - line_lists[i][0][1])/(line_lists[i][-1][0] - line_lists[i][0][0])\n",
    "    b = line_lists[i][-1][1] - k*line_lists[i][-1][0]\n",
    "    start_ = (int(b),0)\n",
    "    end_ = (int(k*h+b),h)\n",
    "    new_list.append([start_,end_,k])\n"
   ]
  },
  {
   "cell_type": "code",
   "execution_count": 38,
   "metadata": {
    "collapsed": false
   },
   "outputs": [
    {
     "name": "stdout",
     "output_type": "stream",
     "text": [
      "[(-41, 0), (97, 676), 0.20520231213872833]\n",
      "[(11, 0), (145, 676), 0.1977077363896848]\n",
      "[(55, 0), (178, 676), 0.18309859154929578]\n",
      "[(99, 0), (221, 676), 0.18095238095238095]\n",
      "[(105, 0), (221, 676), 0.171875]\n",
      "[(157, 0), (270, 676), 0.16721311475409836]\n",
      "[(158, 0), (277, 676), 0.17507418397626112]\n",
      "[(194, 0), (309, 676), 0.17027863777089783]\n",
      "[(199, 0), (316, 676), 0.17410714285714285]\n",
      "[(244, 0), (359, 676), 0.16941176470588235]\n",
      "[(243, 0), (365, 676), 0.18055555555555555]\n",
      "[(292, 0), (393, 676), 0.14935064935064934]\n",
      "[(316, 0), (419, 676), 0.1522633744855967]\n",
      "[(318, 0), (423, 676), 0.15625]\n",
      "[(321, 0), (426, 676), 0.15625]\n",
      "[(349, 0), (452, 676), 0.15178571428571427]\n",
      "[(352, 0), (456, 676), 0.15401785714285715]\n",
      "[(379, 0), (483, 676), 0.15460526315789475]\n",
      "[(381, 0), (485, 676), 0.15401785714285715]\n",
      "[(414, 0), (513, 676), 0.14732142857142858]\n",
      "[(417, 0), (521, 676), 0.15401785714285715]\n",
      "[(450, 0), (549, 676), 0.14732142857142858]\n",
      "[(507, 0), (606, 676), 0.14732142857142858]\n",
      "[(581, 0), (672, 676), 0.13392857142857142]\n",
      "[(582, 0), (681, 676), 0.14732142857142858]\n",
      "[(616, 0), (707, 676), 0.13353115727002968]\n",
      "[(614, 0), (711, 676), 0.14334470989761092]\n",
      "[(648, 0), (744, 676), 0.1417910447761194]\n",
      "[(723, 0), (791, 676), 0.10071942446043165]\n",
      "[(706, 0), (814, 676), 0.16025641025641027]\n",
      "[(751, 0), (855, 676), 0.15328467153284672]\n",
      "[(757, 0), (857, 676), 0.14782608695652175]\n",
      "[(761, 0), (898, 676), 0.20253164556962025]\n",
      "[(737, 0), (1074, 676), 0.49829351535836175]\n",
      "[(758, 0), (1093, 676), 0.4955357142857143]\n",
      "[(761, 0), (1097, 676), 0.4973404255319149]\n",
      "[(782, 0), (1115, 676), 0.49216300940438873]\n",
      "[(783, 0), (1120, 676), 0.4984126984126984]\n",
      "[(808, 0), (1139, 676), 0.49107142857142855]\n",
      "[(808, 0), (1139, 676), 0.49107142857142855]\n",
      "[(796, 0), (1260, 676), 0.685823754789272]\n",
      "[(880, 0), (1348, 676), 0.6925465838509317]\n"
     ]
    }
   ],
   "source": [
    "for i in range(len(new_list)):\n",
    "    print(new_list[i])\n",
    "    #cv2.line(src,(new_list[i][0][0],new_list[i][0][1]),(new_list[i][1][0],new_list[i][1][1]),(0,0,255),3)\n",
    "cv2.imshow('src',src)\n",
    "cv2.waitKey(0)\n",
    "cv2.destroyAllWindows()"
   ]
  },
  {
   "cell_type": "code",
   "execution_count": null,
   "metadata": {
    "collapsed": true
   },
   "outputs": [],
   "source": []
  }
 ],
 "metadata": {
  "anaconda-cloud": {},
  "kernelspec": {
   "display_name": "Python [default]",
   "language": "python",
   "name": "python3"
  },
  "language_info": {
   "codemirror_mode": {
    "name": "ipython",
    "version": 3
   },
   "file_extension": ".py",
   "mimetype": "text/x-python",
   "name": "python",
   "nbconvert_exporter": "python",
   "pygments_lexer": "ipython3",
   "version": "3.5.2"
  }
 },
 "nbformat": 4,
 "nbformat_minor": 1
}
