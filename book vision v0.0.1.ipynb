{
 "cells": [
  {
   "cell_type": "markdown",
   "metadata": {},
   "source": [
    "# 简介\n",
    "\n",
    "经过opencvtest 01 & 02 & 03的初步探究，目前确定的图书图像分割方案为：\n",
    "1. Canny边缘提取\n",
    "2. 以膨胀4倍，腐蚀8倍\n",
    "3. 切出最大图书区域\n",
    "4. 找到图书边缘\n",
    "5. 切割图书\n",
    "\n",
    "## 01 Canny边缘检测"
   ]
  },
  {
   "cell_type": "code",
   "execution_count": null,
   "metadata": {
    "collapsed": false
   },
   "outputs": [],
   "source": [
    "import cv2\n",
    "import numpy as np\n",
    "import deal_border as db\n",
    "pathname = '../../data/one/'\n",
    "filename = 'img12'\n",
    "src = cv2.imread(pathname + filename + '.jpg')\n",
    "blurred = cv2.GaussianBlur(src,(3,3),0)\n",
    "gray=cv2.cvtColor(blurred,cv2.COLOR_RGB2GRAY)\n",
    "edge_output=cv2.Canny(gray,50,100)\n",
    "g_h,g_w = edge_output.shape\n",
    "#cv2.imshow('src',src)\n",
    "#cv2.waitKey(0)\n",
    "#cv2.destroyAllWindows()"
   ]
  },
  {
   "cell_type": "markdown",
   "metadata": {},
   "source": [
    "## 02 膨胀腐蚀"
   ]
  },
  {
   "cell_type": "code",
   "execution_count": null,
   "metadata": {
    "collapsed": true
   },
   "outputs": [],
   "source": [
    "kernel1 = np.ones((4,4),np.uint8)\n",
    "kernel2 = np.ones((8,8),np.uint8)\n",
    "dilation = cv2.dilate(edge_output,kernel1,iterations=1)\n",
    "erosion1 = cv2.erode(dilation,kernel2,iterations=1)\n",
    "#cv2.imshow('dilation',dilation)\n",
    "#cv2.imshow('erosion',erosion1)\n",
    "#cv2.waitKey(0)\n",
    "#cv2.destroyAllWindows()"
   ]
  },
  {
   "cell_type": "markdown",
   "metadata": {},
   "source": [
    "## 03 找出图书主体区域\n",
    "\n",
    "1. 先找出x方向上，y轴中的ROI，取最大\n",
    "2. 在此ROI中再找到y方向，x轴上的ROI，取两边"
   ]
  },
  {
   "cell_type": "code",
   "execution_count": null,
   "metadata": {
    "collapsed": false
   },
   "outputs": [],
   "source": [
    "y1,y2 = db.getROI_y(erosion1)\n",
    "y1,y2 = db.Merge2ROI(y1,y2)\n",
    "index = db.findMaxROI(y1,y2)\n",
    "x1,x2 = db.getROI_x(erosion1[y1[index]:y2[index]])\n",
    "src_main = src[y1[index]:y2[index],x1[0]:x2[-1]]\n",
    "edge_main = edge_output[y1[index]:y2[index],x1[0]:x2[-1]]\n",
    "m_h,m_w = edge_main.shape\n",
    "cv2.imshow('src_main',src_main)\n",
    "cv2.waitKey(0)\n",
    "cv2.destroyAllWindows()"
   ]
  },
  {
   "cell_type": "markdown",
   "metadata": {
    "collapsed": true
   },
   "source": [
    "## 04 找到图书的边缘"
   ]
  },
  {
   "cell_type": "code",
   "execution_count": null,
   "metadata": {
    "collapsed": false
   },
   "outputs": [],
   "source": [
    "import find_border as fb\n",
    "line_lists = fb.detect_bookedge(edge_main)\n",
    "new_list = fb.del_restline(fb.get_lineSlop(line_lists,m_h))"
   ]
  },
  {
   "cell_type": "markdown",
   "metadata": {},
   "source": [
    "#### Tips:\n",
    "画出边缘判定准确度"
   ]
  },
  {
   "cell_type": "code",
   "execution_count": null,
   "metadata": {
    "collapsed": false
   },
   "outputs": [],
   "source": [
    "src_main = src[y1[index]:y2[index],x1[0]:x2[-1]]\n",
    "for i in range(len(new_list)):\n",
    "    #print(new_list[i])\n",
    "    cv2.line(src_main,(new_list[i][0][0],new_list[i][0][1]),(new_list[i][1][0],new_list[i][1][1]),(0,0,255),3)\n",
    "cv2.imshow('src_main',src_main)\n",
    "cv2.waitKey(0)\n",
    "cv2.destroyAllWindows()"
   ]
  },
  {
   "cell_type": "markdown",
   "metadata": {},
   "source": [
    "## 05 切割图书"
   ]
  },
  {
   "cell_type": "code",
   "execution_count": null,
   "metadata": {
    "collapsed": false
   },
   "outputs": [],
   "source": [
    "rect_lists = fb.get_bookspine(src_main,edge_main,new_list)"
   ]
  },
  {
   "cell_type": "code",
   "execution_count": null,
   "metadata": {
    "collapsed": false
   },
   "outputs": [],
   "source": []
  },
  {
   "cell_type": "markdown",
   "metadata": {
    "collapsed": true
   },
   "source": [
    "### 保存结果"
   ]
  },
  {
   "cell_type": "code",
   "execution_count": null,
   "metadata": {
    "collapsed": false
   },
   "outputs": [],
   "source": [
    "import os\n",
    "new_dir = filename + '_zero'\n",
    "os.mkdir(new_dir)\n",
    "for i in range(len(rect_lists)):\n",
    "    wirtename = './' + new_dir + '/' + 'img_' + str(i) + '.jpg'\n",
    "    cv2.imwrite(wirtename,rect_lists[i])"
   ]
  },
  {
   "cell_type": "code",
   "execution_count": null,
   "metadata": {
    "collapsed": false
   },
   "outputs": [],
   "source": [
    "cv2.imwrite('temp.jpg',rect_lists[0])"
   ]
  },
  {
   "cell_type": "markdown",
   "metadata": {
    "collapsed": true
   },
   "source": [
    "### Tips:\n",
    "\n",
    "保存数据"
   ]
  },
  {
   "cell_type": "code",
   "execution_count": null,
   "metadata": {
    "collapsed": false
   },
   "outputs": [],
   "source": [
    "from numpy import *\n",
    "savetxt('edge_1.csv',edge_main,fmt='%d',delimiter=',')\n",
    "cv2.imwrite('src_1.jpg',src_main)\n",
    "cv2.imwrite('edge_1.jpg',edge_main)"
   ]
  },
  {
   "cell_type": "code",
   "execution_count": null,
   "metadata": {
    "collapsed": false
   },
   "outputs": [],
   "source": [
    "new_list"
   ]
  },
  {
   "cell_type": "code",
   "execution_count": null,
   "metadata": {
    "collapsed": true
   },
   "outputs": [],
   "source": []
  }
 ],
 "metadata": {
  "anaconda-cloud": {},
  "kernelspec": {
   "display_name": "Python [default]",
   "language": "python",
   "name": "python3"
  },
  "language_info": {
   "codemirror_mode": {
    "name": "ipython",
    "version": 3
   },
   "file_extension": ".py",
   "mimetype": "text/x-python",
   "name": "python",
   "nbconvert_exporter": "python",
   "pygments_lexer": "ipython3",
   "version": "3.5.2"
  }
 },
 "nbformat": 4,
 "nbformat_minor": 1
}
