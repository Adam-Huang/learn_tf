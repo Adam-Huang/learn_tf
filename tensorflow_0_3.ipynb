{
 "cells": [
  {
   "cell_type": "markdown",
   "metadata": {
    "collapsed": true
   },
   "source": [
    "## 一个回归和分类的问题"
   ]
  },
  {
   "cell_type": "code",
   "execution_count": 1,
   "metadata": {
    "collapsed": true
   },
   "outputs": [],
   "source": [
    "import tensorflow as tf\n",
    "import numpy as np\n",
    "import matplotlib.pyplot as plt"
   ]
  },
  {
   "cell_type": "code",
   "execution_count": 3,
   "metadata": {
    "collapsed": false,
    "scrolled": true
   },
   "outputs": [
    {
     "name": "stdout",
     "output_type": "stream",
     "text": [
      "[-0.5        -0.38888889 -0.27777778 -0.16666667 -0.05555556  0.05555556\n",
      "  0.16666667  0.27777778  0.38888889  0.5       ]\n",
      "<class 'numpy.ndarray'>\n"
     ]
    }
   ],
   "source": [
    "x_data = np.linspace(-0.5,0.5,10)\n",
    "print(x_data)\n",
    "print(type(x_data))"
   ]
  },
  {
   "cell_type": "code",
   "execution_count": 5,
   "metadata": {
    "collapsed": false
   },
   "outputs": [],
   "source": [
    "help(np.linspace)#就是均匀分割"
   ]
  },
  {
   "cell_type": "code",
   "execution_count": 7,
   "metadata": {
    "collapsed": false
   },
   "outputs": [
    {
     "name": "stdout",
     "output_type": "stream",
     "text": [
      "[[-0.5       ]\n",
      " [-0.38888889]\n",
      " [-0.27777778]\n",
      " [-0.16666667]\n",
      " [-0.05555556]\n",
      " [ 0.05555556]\n",
      " [ 0.16666667]\n",
      " [ 0.27777778]\n",
      " [ 0.38888889]\n",
      " [ 0.5       ]]\n",
      "[[-0.5        -0.38888889 -0.27777778 -0.16666667 -0.05555556  0.05555556\n",
      "   0.16666667  0.27777778  0.38888889  0.5       ]]\n",
      "<class 'numpy.ndarray'>\n"
     ]
    }
   ],
   "source": [
    "x1 = x_data[:,np.newaxis]\n",
    "print(x1)\n",
    "x2 = x_data[np.newaxis,:]\n",
    "print(x2)\n",
    "print(type(x1))"
   ]
  },
  {
   "cell_type": "markdown",
   "metadata": {},
   "source": [
    "##### 1. 简单来说np.newaxis 为 numpy.ndarray（多维数组）增加一个轴，参考：\n",
    "##### https://blog.csdn.net/lanchunhui/article/details/49725065"
   ]
  },
  {
   "cell_type": "code",
   "execution_count": 10,
   "metadata": {
    "collapsed": false
   },
   "outputs": [
    {
     "name": "stdout",
     "output_type": "stream",
     "text": [
      "[[-0.24059012]\n",
      " [ 0.1571822 ]\n",
      " [ 0.04294684]\n",
      " [-0.26286666]\n",
      " [ 0.01026803]\n",
      " [-0.13135642]\n",
      " [ 0.22983657]\n",
      " [-0.06670963]\n",
      " [ 0.14442302]\n",
      " [ 0.2878075 ]]\n"
     ]
    }
   ],
   "source": [
    "n1 = np.random.normal(0,0.2,x1.shape)\n",
    "print(n1)"
   ]
  },
  {
   "cell_type": "markdown",
   "metadata": {
    "collapsed": true
   },
   "source": [
    "##### 均值为0方差为0.2的正态分布，形状还能这样用，真的6哇"
   ]
  },
  {
   "cell_type": "code",
   "execution_count": 3,
   "metadata": {
    "collapsed": false
   },
   "outputs": [
    {
     "data": {
      "text/plain": [
       "<tf.Tensor 'random_normal:0' shape=(1, 10) dtype=float32>"
      ]
     },
     "execution_count": 3,
     "metadata": {},
     "output_type": "execute_result"
    }
   ],
   "source": [
    "tf.random_normal([1,10])"
   ]
  },
  {
   "cell_type": "markdown",
   "metadata": {},
   "source": [
    "##### 这个函数生成的是一个1行10列的形状"
   ]
  },
  {
   "cell_type": "code",
   "execution_count": 17,
   "metadata": {
    "collapsed": false
   },
   "outputs": [
    {
     "data": {
      "image/png": "[encoded data removed]",
      "text/plain": [
       "<matplotlib.figure.Figure at 0x16b96401048>"
      ]
     },
     "metadata": {},
     "output_type": "display_data"
    }
   ],
   "source": [
    "x_data = np.linspace(-0.5,0.5,200)[:,np.newaxis]\n",
    "noise = np.random.normal(0,0.2,x_data.shape)\n",
    "y_data = np.square(x_data) + noise\n",
    "\n",
    "x = tf.placeholder(tf.float32,[None,1])##None表示，行数不确定\n",
    "y = tf.placeholder(tf.float32,[None,1])\n",
    "\n",
    "Weights = tf.Variable(tf.random_normal([1,10]))\n",
    "biases = tf.Variable(tf.zeros([1,10]))\n",
    "L1Out = tf.nn.tanh(tf.matmul(x,Weights) + biases)\n",
    "\n",
    "Weights2 = tf.Variable(tf.random_normal([10,1]))\n",
    "biases2 = tf.Variable(tf.zeros([1,1]))\n",
    "y_out = tf.nn.tanh(tf.matmul(L1Out,Weights2) + biases2)\n",
    "\n",
    "loss = tf.reduce_mean(tf.square(y - y_out))\n",
    "\n",
    "tain = tf.train.GradientDescentOptimizer(0.1).minimize(loss)\n",
    "\n",
    "init = tf.global_variables_initializer()\n",
    "\n",
    "with tf.Session() as sess:\n",
    "    sess.run(init)\n",
    "    for _ in range(10):\n",
    "        sess.run(tain,feed_dict={x:x_data,y:y_data})\n",
    "    \n",
    "    prediction = sess.run(y_out,feed_dict={x:x_data})\n",
    "    \n",
    "    plt.figure()\n",
    "    plt.scatter(x_data,y_data)\n",
    "    plt.plot(x_data,prediction,'r-',lw=5)\n",
    "    plt.show()"
   ]
  },
  {
   "cell_type": "code",
   "execution_count": null,
   "metadata": {
    "collapsed": true
   },
   "outputs": [],
   "source": []
  }
 ],
 "metadata": {
  "anaconda-cloud": {},
  "kernelspec": {
   "display_name": "Python [default]",
   "language": "python",
   "name": "python3"
  },
  "language_info": {
   "codemirror_mode": {
    "name": "ipython",
    "version": 3
   },
   "file_extension": ".py",
   "mimetype": "text/x-python",
   "name": "python",
   "nbconvert_exporter": "python",
   "pygments_lexer": "ipython3",
   "version": "3.5.2"
  }
 },
 "nbformat": 4,
 "nbformat_minor": 1
}
