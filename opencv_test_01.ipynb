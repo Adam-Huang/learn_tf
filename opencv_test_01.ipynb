{
 "cells": [
  {
   "cell_type": "markdown",
   "metadata": {},
   "source": [
    "# 01 边缘提取"
   ]
  },
  {
   "cell_type": "code",
   "execution_count": 2,
   "metadata": {
    "collapsed": true
   },
   "outputs": [],
   "source": [
    "import cv2"
   ]
  },
  {
   "cell_type": "code",
   "execution_count": 3,
   "metadata": {
    "collapsed": false
   },
   "outputs": [],
   "source": [
    "src = cv2.imread('../../data/book08.jpg')\n",
    "cv2.namedWindow('def')\n",
    "cv2.imshow('def',src)\n",
    "cv2.waitKey(6000)\n",
    "cv2.destroyAllWindows()"
   ]
  },
  {
   "cell_type": "code",
   "execution_count": 4,
   "metadata": {
    "collapsed": false
   },
   "outputs": [],
   "source": [
    "blurred = cv2.GaussianBlur(src,(3,3),0)\n",
    "cv2.namedWindow('def')\n",
    "cv2.imshow('def',src)\n",
    "cv2.imshow('blurred',blurred)\n",
    "cv2.waitKey(0)\n",
    "cv2.destroyAllWindows()\n",
    "##这个函数的第二个参数怎么只能填(3,3)"
   ]
  },
  {
   "cell_type": "code",
   "execution_count": 5,
   "metadata": {
    "collapsed": false
   },
   "outputs": [],
   "source": [
    "gray=cv2.cvtColor(blurred,cv2.COLOR_RGB2GRAY)##顾名思义就是将彩色图像转换为灰度图像的\n",
    "cv2.namedWindow('blurred')\n",
    "cv2.imshow('blurred',blurred)\n",
    "cv2.imshow('gray',gray)\n",
    "cv2.waitKey(0)\n",
    "cv2.destroyAllWindows()"
   ]
  },
  {
   "cell_type": "code",
   "execution_count": 5,
   "metadata": {
    "collapsed": false
   },
   "outputs": [],
   "source": [
    "xgrad=cv2.Sobel(gray,cv2.CV_16SC1,1,0)\n",
    "ygrad=cv2.Sobel(gray,cv2.CV_16SC1,0,1)\n",
    "cv2.namedWindow('xgrad')\n",
    "cv2.imshow('xgrad',xgrad)\n",
    "cv2.imshow('ygrad',ygrad)\n",
    "cv2.waitKey(0)\n",
    "cv2.destroyAllWindows()"
   ]
  },
  {
   "cell_type": "code",
   "execution_count": 6,
   "metadata": {
    "collapsed": false
   },
   "outputs": [],
   "source": [
    "edge_output=cv2.Canny(gray,100,200)\n",
    "cv2.namedWindow('def')\n",
    "cv2.imshow('def',src)\n",
    "cv2.imshow('edge_output',edge_output)\n",
    "cv2.waitKey(0)\n",
    "cv2.destroyAllWindows()"
   ]
  },
  {
   "cell_type": "markdown",
   "metadata": {},
   "source": [
    "##### 参考来源：\n",
    "##### https://blog.csdn.net/gangzhucoll/article/details/78824590 (*)  https://blog.csdn.net/sunny2038/article/details/9202641(**)"
   ]
  },
  {
   "cell_type": "code",
   "execution_count": 19,
   "metadata": {
    "collapsed": false
   },
   "outputs": [
    {
     "name": "stdout",
     "output_type": "stream",
     "text": [
      "<class 'float'>\n",
      "<class 'numpy.ndarray'>\n"
     ]
    }
   ],
   "source": [
    "ret,binary=cv2.threshold(gray,0,255,cv2.THRESH_BINARY|cv2.THRESH_OTSU)\n",
    "print(type(ret))\n",
    "print(type(binary))\n",
    "cv2.imshow('def',src)\n",
    "cv2.imshow(\"bi\",binary)\n",
    "cloneImg,contours,heriachy= cv2.findContours(binary,cv2.RETR_EXTERNAL,cv2.CHAIN_APPROX_SIMPLE)\n",
    "for i ,contour in enumerate(contours):\n",
    "    cv2.drawContours(src,contours,i,(0,0,255),2)\n",
    "cv2.imshow(\"contpurs\",src)\n",
    "cv2.namedWindow('def')\n",
    "cv2.waitKey(0)\n",
    "cv2.destroyAllWindows()"
   ]
  },
  {
   "cell_type": "code",
   "execution_count": 21,
   "metadata": {
    "collapsed": false
   },
   "outputs": [
    {
     "name": "stdout",
     "output_type": "stream",
     "text": [
      "(1055, 700)\n"
     ]
    }
   ],
   "source": [
    "print(binary.shape)"
   ]
  },
  {
   "cell_type": "code",
   "execution_count": 17,
   "metadata": {
    "collapsed": false
   },
   "outputs": [
    {
     "name": "stdout",
     "output_type": "stream",
     "text": [
      "<class 'numpy.ndarray'>\n",
      "(1055, 700)\n",
      "[  0   0   0   0   0   0   0   0   0   0   0   0   0   0   0   0   0   0\n",
      "   0   0   0   0   0   0   0   0   0   0   0   0   0 255   0   0   0   0\n",
      "   0   0   0   0   0   0   0   0   0   0   0 255   0   0   0   0   0   0\n",
      "   0   0   0   0   0   0   0   0   0 255   0 255   0   0   0   0   0 255\n",
      " 255 255 255 255 255 255 255 255 255 255 255   0   0 255   0 255 255 255\n",
      " 255 255 255 255 255 255 255 255 255 255 255 255 255   0   0   0 255 255\n",
      " 255 255 255 255 255 255 255 255 255 255 255 255 255 255 255 255 255 255\n",
      " 255 255   0 255 255 255 255 255 255 255 255 255 255 255 255 255 255   0\n",
      "   0   0   0   0   0   0   0   0   0   0   0   0   0   0   0 255 255   0\n",
      "   0 255 255 255   0   0   0   0 255   0 255   0   0   0   0   0   0   0\n",
      "   0   0   0   0   0   0   0 255   0   0   0   0   0   0   0   0   0   0\n",
      "   0   0   0 255   0   0   0   0   0   0 255 255 255 255   0   0   0   0\n",
      "   0 255   0   0 255   0   0   0   0 255   0   0   0   0   0   0   0 255\n",
      "   0   0   0 255   0   0 255   0   0   0   0 255   0   0   0   0   0   0\n",
      "   0   0   0   0 255   0   0 255   0   0 255   0   0   0   0 255   0   0\n",
      " 255   0   0   0 255   0   0   0   0   0   0   0   0   0   0   0   0   0\n",
      " 255   0   0   0   0   0 255   0   0   0   0   0   0   0   0   0   0   0\n",
      "   0   0   0   0   0   0   0   0   0 255 255   0   0   0   0   0   0   0\n",
      "   0   0   0   0   0 255 255   0   0   0   0   0 255 255   0 255   0   0\n",
      "   0   0 255   0   0   0   0   0   0   0   0   0   0   0   0   0 255   0\n",
      "   0   0   0   0 255   0   0   0   0   0   0 255 255 255 255   0   0 255\n",
      "   0   0   0 255   0   0 255 255   0 255   0   0 255   0   0   0 255 255\n",
      "   0   0   0   0 255   0 255   0 255 255   0   0 255 255 255 255   0   0\n",
      " 255   0   0   0   0 255 255 255 255   0   0   0   0 255 255   0 255   0\n",
      "   0   0 255   0   0   0 255   0   0   0   0 255 255   0 255   0   0 255\n",
      "   0   0   0   0   0   0 255   0   0 255   0   0   0   0   0 255   0   0\n",
      "   0 255   0   0   0 255   0   0 255   0   0   0   0   0 255   0   0   0\n",
      "   0 255   0   0 255   0   0   0   0 255   0   0   0   0 255   0   0   0\n",
      "   0   0   0   0   0   0   0   0   0   0 255   0   0   0   0 255   0   0\n",
      "   0 255   0   0   0 255   0   0   0   0   0   0 255   0   0 255   0   0\n",
      "   0   0   0 255   0   0   0 255   0   0   0   0 255   0 255   0   0   0\n",
      " 255   0   0   0 255   0   0   0   0 255   0   0 255   0   0   0   0   0\n",
      " 255   0   0   0   0 255   0   0   0   0   0 255   0   0   0   0   0   0\n",
      "   0   0 255   0 255   0   0   0   0 255 255   0   0 255   0   0   0   0\n",
      "   0   0   0 255   0   0 255   0   0   0   0   0 255   0   0   0   0   0\n",
      "   0   0 255   0   0   0   0 255   0   0 255   0   0   0 255   0 255 255\n",
      " 255 255 255 255 255   0 255   0   0 255   0   0   0   0   0   0   0   0\n",
      "   0   0   0   0 255   0   0   0   0   0   0   0   0   0   0   0   0   0\n",
      "   0   0   0   0   0   0   0   0   0   0   0   0   0   0   0   0]\n"
     ]
    }
   ],
   "source": [
    "print(type(edge_output))\n",
    "print(edge_output.shape)\n",
    "print(edge_output[342,:])"
   ]
  },
  {
   "cell_type": "markdown",
   "metadata": {
    "collapsed": true
   },
   "source": [
    "##### 小结：\n",
    "1. 可以提取边缘，而且边缘都是255，非边缘区域都是0\n",
    "2. 可针对这个特性做二值优化"
   ]
  },
  {
   "cell_type": "code",
   "execution_count": 19,
   "metadata": {
    "collapsed": true
   },
   "outputs": [],
   "source": [
    "import numpy as np"
   ]
  },
  {
   "cell_type": "markdown",
   "metadata": {},
   "source": [
    "# 02 draw different geometric shapes with OpenCV && Adding Text to Images\n",
    "https://docs.opencv.org/3.4.0/dc/da5/tutorial_py_drawing_functions.html"
   ]
  },
  {
   "cell_type": "code",
   "execution_count": 28,
   "metadata": {
    "collapsed": false
   },
   "outputs": [],
   "source": [
    "# Create a black image\n",
    "img1 = np.zeros((512,512,3), np.uint8)\n",
    "# Draw a diagonal blue line with thickness of 5 px\n",
    "cv2.line(img1,(0,0),(511,511),(255,0,0),5)\n",
    "cv2.imshow('draw line',img1)\n",
    "cv2.waitKey(0)\n",
    "cv2.destroyAllWindows()"
   ]
  },
  {
   "cell_type": "code",
   "execution_count": 22,
   "metadata": {
    "collapsed": false
   },
   "outputs": [
    {
     "data": {
      "text/plain": [
       "'3.1.0'"
      ]
     },
     "execution_count": 22,
     "metadata": {},
     "output_type": "execute_result"
    }
   ],
   "source": [
    "cv2.__version__"
   ]
  },
  {
   "cell_type": "code",
   "execution_count": 24,
   "metadata": {
    "collapsed": true
   },
   "outputs": [],
   "source": [
    "cv2.rectangle(img1,(384,0),(510,128),(0,255,0),3)  ##color is green\n",
    "cv2.imshow('draw rectang',img1)\n",
    "cv2.waitKey(0)\n",
    "cv2.destroyAllWindows()"
   ]
  },
  {
   "cell_type": "code",
   "execution_count": 32,
   "metadata": {
    "collapsed": true
   },
   "outputs": [],
   "source": [
    "cv2.circle(img1,(100,63), 63, (0,0,255), -1)  ##-1就是填充满\n",
    "cv2.imshow('draw circle',img1)\n",
    "cv2.waitKey(0)\n",
    "cv2.destroyAllWindows()"
   ]
  },
  {
   "cell_type": "code",
   "execution_count": 33,
   "metadata": {
    "collapsed": true
   },
   "outputs": [],
   "source": [
    "font = cv2.FONT_HERSHEY_SIMPLEX\n",
    "cv2.putText(img1,'OpenCV',(10,500), font, 4,(255,255,255),2,cv2.LINE_AA)\n",
    "cv2.imshow('Add text',img1)\n",
    "cv2.waitKey(0)\n",
    "cv2.destroyAllWindows()"
   ]
  },
  {
   "cell_type": "markdown",
   "metadata": {},
   "source": [
    "# 03 试试线性回归画图"
   ]
  },
  {
   "cell_type": "code",
   "execution_count": null,
   "metadata": {
    "collapsed": true
   },
   "outputs": [],
   "source": []
  },
  {
   "cell_type": "markdown",
   "metadata": {},
   "source": [
    "# 04 试试腐蚀膨胀确定图书位置"
   ]
  },
  {
   "cell_type": "code",
   "execution_count": 11,
   "metadata": {
    "collapsed": false
   },
   "outputs": [],
   "source": [
    "import numpy as np\n",
    "kernel = np.ones((2,2),np.uint8)\n",
    "erosion1 = cv2.erode(edge_output,kernel,iterations=1)\n",
    "cv2.imshow('edge',edge_output)\n",
    "cv2.imshow('erosion',erosion1)\n",
    "cv2.waitKey(0)\n",
    "cv2.destroyAllWindows()"
   ]
  },
  {
   "cell_type": "markdown",
   "metadata": {},
   "source": [
    "##### 直接腐蚀不行，canny提取的边缘，宽度都是1，用(1,1)的核，腐蚀了和没腐蚀一个样，用(2,2)的就全腐蚀了\n",
    "\n",
    "还是要先膨胀下"
   ]
  },
  {
   "cell_type": "code",
   "execution_count": 23,
   "metadata": {
    "collapsed": true
   },
   "outputs": [],
   "source": [
    "kernel1 = np.ones((4,4),np.uint8)\n",
    "kernel2 = np.ones((8,8),np.uint8)\n",
    "dilation = cv2.dilate(edge_output,kernel1,iterations=1)\n",
    "erosion1 = cv2.erode(dilation,kernel2,iterations=1)\n",
    "cv2.imshow('edge',edge_output)\n",
    "cv2.imshow('dilation',dilation)\n",
    "cv2.imshow('erosion',erosion1)\n",
    "cv2.waitKey(0)\n",
    "cv2.destroyAllWindows()"
   ]
  },
  {
   "cell_type": "markdown",
   "metadata": {},
   "source": [
    "#### 小结：\n",
    "目前图书区域是能找到的，但是好像不方便分割图书，只能确定图书区域，不过这还是很了不起了"
   ]
  },
  {
   "cell_type": "code",
   "execution_count": null,
   "metadata": {
    "collapsed": true
   },
   "outputs": [],
   "source": []
  }
 ],
 "metadata": {
  "anaconda-cloud": {},
  "kernelspec": {
   "display_name": "Python [default]",
   "language": "python",
   "name": "python3"
  },
  "language_info": {
   "codemirror_mode": {
    "name": "ipython",
    "version": 3
   },
   "file_extension": ".py",
   "mimetype": "text/x-python",
   "name": "python",
   "nbconvert_exporter": "python",
   "pygments_lexer": "ipython3",
   "version": "3.5.2"
  }
 },
 "nbformat": 4,
 "nbformat_minor": 1
}
